{
 "cells": [
  {
   "cell_type": "code",
   "execution_count": 7,
   "id": "562f0547",
   "metadata": {},
   "outputs": [
    {
     "name": "stdout",
     "output_type": "stream",
     "text": [
      "done\n"
     ]
    }
   ],
   "source": [
    "\n",
    "import os\n",
    "import re\n",
    "\n",
    "# 数据读写文件路径\n",
    "TextPath = \"D:/try/parsed_text/output.txt\" #把之前的数据全部合并到一个txt文件中\n",
    "OutTemplateFile_split = \"D:/try/split_text/split\"\n",
    "\n",
    "with open(TextPath,'r', encoding='gb18030', errors='ignore') as f:\n",
    "    all_data = f.readlines()\n",
    "    \n",
    "all_data=str(all_data) #split不能对list进行操作\n",
    "\n",
    "\n",
    "#统计词频并排序 不需要可以注释掉\n",
    "def Count_Frequency(StringList, OutPutFile):\n",
    "    word_frequency={}\n",
    "    for i in StringList:\n",
    "        if i not in word_frequency:\n",
    "            word_frequency[i] = 1\n",
    "        else:\n",
    "            word_frequency[i] += 1\n",
    "    # 排序.items()将字典转化为列表中元组的形式，lambda对item进行操作，item[1]表示键值，排序依据是键值\n",
    "    word_sort= sorted(word_frequency.items(),key=lambda item: item[1],reverse=True)\n",
    "    \n",
    "    #以下是已统计词频率并排序的数据若不需要则注释掉\n",
    "    #OutPutFile.write(str(word_sort))\n",
    "   \n",
    "    return \n",
    "\n",
    "#分词\n",
    "def Get_word_split(txt_data, OutPutFile):\n",
    "    word_list=re.split('\\W+',txt_data) #分词\n",
    "    \n",
    "    #以下是统计词频并排序，若不需要则注释掉\n",
    "    #Count_Frequency(word_list,OutPutFile)\n",
    "    \n",
    "    以下是输出分好的词，不需要则注释掉\n",
    "    OutPutFile.write(str(word_list))\n",
    "\n",
    "    return\n",
    "\n",
    "\n",
    "def main():\n",
    "    OutPutPath_split = OutTemplateFile_split + \"_\"  + \".txt\"\n",
    "    OutPutFile_split = open(OutPutPath_split, \"w\",encoding=\"utf-8\")\n",
    "    Get_word_split(all_data, OutPutFile_split)\n",
    "    print(\"done\")\n",
    "    OutPutFile_split.close()\n",
    "\n",
    "    return\n",
    "        \n",
    "\n",
    "if __name__ == \"__main__\":\n",
    "    main()\n",
    "\n"
   ]
  },
  {
   "cell_type": "code",
   "execution_count": null,
   "id": "479df3a5",
   "metadata": {},
   "outputs": [],
   "source": []
  }
 ],
 "metadata": {
  "kernelspec": {
   "display_name": "Python [conda env:pytorch0]",
   "language": "python",
   "name": "conda-env-pytorch0-py"
  },
  "language_info": {
   "codemirror_mode": {
    "name": "ipython",
    "version": 3
   },
   "file_extension": ".py",
   "mimetype": "text/x-python",
   "name": "python",
   "nbconvert_exporter": "python",
   "pygments_lexer": "ipython3",
   "version": "3.9.13"
  }
 },
 "nbformat": 4,
 "nbformat_minor": 5
}

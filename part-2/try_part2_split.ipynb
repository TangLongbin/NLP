{
 "cells": [
  {
   "cell_type": "code",
   "execution_count": 1,
   "id": "61c424e8",
   "metadata": {},
   "outputs": [
    {
     "name": "stdout",
     "output_type": "stream",
     "text": [
      "\r",
      "0%\r",
      "10%\r",
      "20%\r",
      "30%\r",
      "40%\r",
      "50%\r",
      "60%\r",
      "70%\r",
      "80%\r",
      "90%done\n"
     ]
    }
   ],
   "source": [
    "\n",
    "import os\n",
    "import re\n",
    "\n",
    "# 数据读写文件路径\n",
    "TextPath = \"D:/try/parsed_text\" \n",
    "OutTemplateFile_split = \"D:/try/split_text/split\"\n",
    "\n",
    "# 最后修改时间：2022/8/5/9：00\n",
    "# 最后修改者：熊翔翔\n",
    "'''\n",
    "#统计词频并排序 不需要可以注释掉\n",
    "def Count_Frequency(StringList, OutPutFile):\n",
    "    word_frequency={}\n",
    "    for i in StringList:\n",
    "        if i not in word_frequency:\n",
    "            word_frequency[i] = 1\n",
    "        else:\n",
    "            word_frequency[i] += 1\n",
    "    # 排序.items()将字典转化为列表中元组的形式，lambda对item进行操作，item[1]表示键值，排序依据是键值\n",
    "    word_sort= sorted(word_frequency.items(),key=lambda item: item[1],reverse=True)\n",
    "    \n",
    "    #以下是已统计词频率并排序的数据若不需要则注释掉\n",
    "    #OutPutFile.write(str(word_sort))\n",
    "   \n",
    "    return \n",
    "'''\n",
    "# 获取指定文件夹内的所有文件的绝对路径\n",
    "# return type: List\n",
    "def GetFilePath(DirPath):\n",
    "    \n",
    "    Res = []\n",
    "    for FilePath, DirNames, FileNames in os.walk(DirPath):\n",
    "        for FileName in FileNames:\n",
    "            str_tmp = os.path.join(FilePath, FileName)\n",
    "            Res.append(str_tmp)\n",
    "            \n",
    "    return Res\n",
    "\n",
    "#分词\n",
    "def Get_word_split(FilePath, OutPutFile):\n",
    "    with open(FilePath,'r', encoding='gb18030', errors='ignore') as f:\n",
    "        txt_data = f.readlines()\n",
    "        txt_data=str(txt_data) #split不能对list进行操作\n",
    "        \n",
    "    word_list=re.split('\\W+',txt_data) #分词\n",
    "    \n",
    "    word_list.remove('n')#删除换行符n\n",
    "    \n",
    "    #以下是统计词频并排序，若不需要则注释掉\n",
    "    #Count_Frequency(word_list,OutPutFile)\n",
    "    \n",
    "    #输出分好的词\n",
    "    OutPutFile.write(str(word_list))\n",
    "\n",
    "    return\n",
    "\n",
    "\n",
    "def main():\n",
    "    # 获取所有文件路径并依次遍历\n",
    "    FilePaths = GetFilePath(TextPath)\n",
    "    cnt = 0\n",
    "    total = len(FilePaths)\n",
    "    for FilePath in FilePaths:\n",
    "        OutPutPath_split = OutTemplateFile_split + \"_\" + str(cnt) + \".txt\"\n",
    "        OutPutFile_split = open(OutPutPath_split, \"w\",encoding=\"utf-8\")\n",
    "        Get_word_split(FilePath, OutPutFile_split)\n",
    "        # 输出程序完成百分比\n",
    "        print(\"\\r\",end=\"\")\n",
    "        print(100* cnt//total, end=\"%\")\n",
    "        cnt += 1\n",
    "        OutPutFile_split.close()\n",
    "        \n",
    "    print(\"done\")\n",
    "    return\n",
    "        \n",
    "\n",
    "if __name__ == \"__main__\":\n",
    "    main()\n",
    "\n"
   ]
  },
  {
   "cell_type": "code",
   "execution_count": null,
   "id": "28982b74",
   "metadata": {},
   "outputs": [],
   "source": []
  }
 ],
 "metadata": {
  "kernelspec": {
   "display_name": "Python 3.8.10 64-bit",
   "language": "python",
   "name": "python3"
  },
  "language_info": {
   "codemirror_mode": {
    "name": "ipython",
    "version": 3
   },
   "file_extension": ".py",
   "mimetype": "text/x-python",
   "name": "python",
   "nbconvert_exporter": "python",
   "pygments_lexer": "ipython3",
   "version": "3.8.10"
  },
  "vscode": {
   "interpreter": {
    "hash": "916dbcbb3f70747c44a77c7bcd40155683ae19c65e1c03b4aa3499c5328201f1"
   }
  }
 },
 "nbformat": 4,
 "nbformat_minor": 5
}

{
 "cells": [
  {
   "cell_type": "code",
   "execution_count": 2,
   "id": "9bf62f49",
   "metadata": {},
   "outputs": [
    {
     "name": "stdout",
     "output_type": "stream",
     "text": [
      "41%"
     ]
    }
   ],
   "source": [
    "from nltk import word_tokenize\n",
    "import os\n",
    "\n",
    "# 数据读写文件路径\n",
    "TextPath = \"/home/tanglongbin/NLP/parsed_data\" \n",
    "OutTemplateFile_nltk = \"/home/tanglongbin/NLP/nltk_text/nltk\"\n",
    "\n",
    "# 最后修改时间：2022/8/6 23：00\n",
    "# 最后修改者：唐隆斌\n",
    "# 处理part-1中的txt，并进行分词，获得词汇表（均为正常单词）\n",
    "\n",
    "# 获取指定文件夹内的所有文件的绝对路径\n",
    "# return type: List\n",
    "def GetFilePath(DirPath):\n",
    "    \n",
    "    Res = []\n",
    "    for FilePath, DirNames, FileNames in os.walk(DirPath):\n",
    "        for FileName in FileNames:\n",
    "            str_tmp = os.path.join(FilePath, FileName)\n",
    "            Res.append(str_tmp)\n",
    "            \n",
    "    return Res\n",
    "\n",
    "\n",
    "# 去除非单词元素\n",
    "def delete_characters(token_words):\n",
    "    words_list = [word for word in token_words if word.isalpha()]\n",
    "    return words_list\n",
    "    \n",
    "    \n",
    "#分词\n",
    "def Get_word_nltk(FilePath, OutPutFile):\n",
    "    with open(FilePath,'r',encoding='utf-8') as f:\n",
    "        txt_data = f.readlines()\n",
    "        txt_data=str(txt_data)\n",
    "        cutwords = word_tokenize(txt_data) #分词\n",
    "        cutwords = delete_characters(cutwords)\n",
    "        OutPutFile.write(str(cutwords))\n",
    "    return\n",
    "\n",
    "def main():\n",
    "    # 获取所有文件路径并依次遍历\n",
    "    FilePaths = GetFilePath(TextPath)\n",
    "    cnt = 0\n",
    "    total = len(FilePaths)\n",
    "    for FilePath in FilePaths:\n",
    "        OutPutPath_nltk = OutTemplateFile_nltk + \"_\" + str(cnt) + \".txt\"\n",
    "        OutPutFile_nltk = open(OutPutPath_nltk, \"w\",encoding=\"utf-8\")\n",
    "        Get_word_nltk(FilePath, OutPutFile_nltk)\n",
    "        # 输出程序完成百分比\n",
    "        print(\"\\r\",end=\"\")\n",
    "        print(100* cnt//total, end=\"%\")\n",
    "        cnt += 1\n",
    "        OutPutFile_nltk.close()\n",
    "        \n",
    "    print(\"done\")\n",
    "\n",
    "    return\n",
    "        \n",
    "\n",
    "if __name__ == \"__main__\":\n",
    "    main()\n",
    "    \n"
   ]
  },
  {
   "cell_type": "code",
   "execution_count": null,
   "id": "82691c00",
   "metadata": {},
   "outputs": [],
   "source": []
  }
 ],
 "metadata": {
  "kernelspec": {
   "display_name": "Python 3.8.10 64-bit",
   "language": "python",
   "name": "python3"
  },
  "language_info": {
   "codemirror_mode": {
    "name": "ipython",
    "version": 3
   },
   "file_extension": ".py",
   "mimetype": "text/x-python",
   "name": "python",
   "nbconvert_exporter": "python",
   "pygments_lexer": "ipython3",
   "version": "3.8.10"
  },
  "vscode": {
   "interpreter": {
    "hash": "916dbcbb3f70747c44a77c7bcd40155683ae19c65e1c03b4aa3499c5328201f1"
   }
  }
 },
 "nbformat": 4,
 "nbformat_minor": 5
}
